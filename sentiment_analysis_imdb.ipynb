{
 "cells": [
  {
   "cell_type": "code",
   "execution_count": 1,
   "metadata": {
    "ExecuteTime": {
     "end_time": "2021-02-23T16:46:35.422202Z",
     "start_time": "2021-02-23T16:46:35.420277Z"
    }
   },
   "outputs": [],
   "source": [
    "import warnings\n",
    "warnings.filterwarnings('ignore')"
   ]
  },
  {
   "cell_type": "code",
   "execution_count": 2,
   "metadata": {
    "ExecuteTime": {
     "end_time": "2021-02-23T16:46:36.902418Z",
     "start_time": "2021-02-23T16:46:35.423915Z"
    }
   },
   "outputs": [],
   "source": [
    "%matplotlib inline\n",
    "\n",
    "from pathlib import Path\n",
    "\n",
    "import numpy as np\n",
    "import pandas as pd\n",
    "from sklearn.metrics import roc_auc_score\n",
    "\n",
    "import tensorflow as tf\n",
    "from tensorflow.keras.callbacks import ModelCheckpoint, EarlyStopping\n",
    "from tensorflow.keras.datasets import imdb\n",
    "from tensorflow.keras.models import Sequential\n",
    "from tensorflow.keras.layers import Dense, GRU, Embedding\n",
    "from tensorflow.keras.preprocessing.sequence import pad_sequences\n",
    "import tensorflow.keras.backend as K\n",
    "\n",
    "import matplotlib.pyplot as plt\n",
    "import seaborn as sns"
   ]
  },
  {
   "cell_type": "code",
   "execution_count": 3,
   "metadata": {
    "ExecuteTime": {
     "end_time": "2021-02-23T16:46:36.938942Z",
     "start_time": "2021-02-23T16:46:36.903401Z"
    }
   },
   "outputs": [
    {
     "name": "stdout",
     "output_type": "stream",
     "text": [
      "Using CPU\n"
     ]
    }
   ],
   "source": [
    "gpu_devices = tf.config.experimental.list_physical_devices('GPU')\n",
    "if gpu_devices:\n",
    "    print('Using GPU')\n",
    "    tf.config.experimental.set_memory_growth(gpu_devices[0], True)\n",
    "else:\n",
    "    print('Using CPU')"
   ]
  },
  {
   "cell_type": "code",
   "execution_count": 4,
   "metadata": {
    "ExecuteTime": {
     "end_time": "2021-02-23T16:46:36.952017Z",
     "start_time": "2021-02-23T16:46:36.940222Z"
    }
   },
   "outputs": [],
   "source": [
    "sns.set_style('whitegrid')\n",
    "np.random.seed(42)"
   ]
  },
  {
   "cell_type": "code",
   "execution_count": 5,
   "metadata": {
    "ExecuteTime": {
     "end_time": "2021-02-23T16:46:36.960141Z",
     "start_time": "2021-02-23T16:46:36.953733Z"
    }
   },
   "outputs": [],
   "source": [
    "results_path = Path('results', 'sentiment_imdb')\n",
    "if not results_path.exists():\n",
    "    results_path.mkdir(parents=True)"
   ]
  },
  {
   "cell_type": "markdown",
   "metadata": {},
   "source": [
    "## Load Reviews"
   ]
  },
  {
   "cell_type": "code",
   "execution_count": 6,
   "metadata": {
    "ExecuteTime": {
     "end_time": "2021-02-23T16:46:36.967985Z",
     "start_time": "2021-02-23T16:46:36.961210Z"
    }
   },
   "outputs": [],
   "source": [
    "vocab_size = 20000"
   ]
  },
  {
   "cell_type": "code",
   "execution_count": 7,
   "metadata": {
    "ExecuteTime": {
     "end_time": "2021-02-23T16:46:39.920943Z",
     "start_time": "2021-02-23T16:46:36.970408Z"
    }
   },
   "outputs": [
    {
     "name": "stdout",
     "output_type": "stream",
     "text": [
      "Downloading data from https://storage.googleapis.com/tensorflow/tf-keras-datasets/imdb.npz\n",
      "17465344/17464789 [==============================] - 8s 0us/step\n"
     ]
    }
   ],
   "source": [
    "(X_train, y_train), (X_test, y_test) = imdb.load_data(seed=42, \n",
    "                                                      skip_top=0,\n",
    "                                                      maxlen=None, \n",
    "                                                      oov_char=2, \n",
    "                                                      index_from=3,\n",
    "                                                      num_words=vocab_size)"
   ]
  },
  {
   "cell_type": "code",
   "execution_count": 8,
   "metadata": {
    "ExecuteTime": {
     "end_time": "2021-02-23T16:46:40.737546Z",
     "start_time": "2021-02-23T16:46:39.922130Z"
    },
    "scrolled": true
   },
   "outputs": [
    {
     "data": {
      "image/png": "[encoded data removed]",
      "text/plain": [
       "<Figure size 360x360 with 1 Axes>"
      ]
     },
     "metadata": {},
     "output_type": "display_data"
    }
   ],
   "source": [
    "ax = sns.displot([len(review) for review in X_train])\n",
    "ax.set(xscale='log');"
   ]
  },
  {
   "cell_type": "markdown",
   "metadata": {},
   "source": [
    "## Prepare Data"
   ]
  },
  {
   "cell_type": "code",
   "execution_count": 9,
   "metadata": {
    "ExecuteTime": {
     "end_time": "2021-02-23T16:46:40.740230Z",
     "start_time": "2021-02-23T16:46:40.738607Z"
    }
   },
   "outputs": [],
   "source": [
    "maxlen = 100"
   ]
  },
  {
   "cell_type": "code",
   "execution_count": 10,
   "metadata": {
    "ExecuteTime": {
     "end_time": "2021-02-23T16:46:41.144907Z",
     "start_time": "2021-02-23T16:46:40.741137Z"
    }
   },
   "outputs": [],
   "source": [
    "X_train_padded = pad_sequences(X_train, \n",
    "                        truncating='pre', \n",
    "                        padding='pre', \n",
    "                        maxlen=maxlen)\n",
    "\n",
    "X_test_padded = pad_sequences(X_test, \n",
    "                       truncating='pre', \n",
    "                       padding='pre', \n",
    "                       maxlen=maxlen)"
   ]
  },
  {
   "cell_type": "code",
   "execution_count": 11,
   "metadata": {
    "ExecuteTime": {
     "end_time": "2021-02-23T16:46:41.148423Z",
     "start_time": "2021-02-23T16:46:41.145788Z"
    }
   },
   "outputs": [
    {
     "data": {
      "text/plain": [
       "((25000, 100), (25000, 100))"
      ]
     },
     "execution_count": 11,
     "metadata": {},
     "output_type": "execute_result"
    }
   ],
   "source": [
    "X_train_padded.shape, X_test_padded.shape"
   ]
  },
  {
   "cell_type": "code",
   "execution_count": 12,
   "metadata": {
    "ExecuteTime": {
     "end_time": "2021-02-23T16:46:41.161746Z",
     "start_time": "2021-02-23T16:46:41.149384Z"
    }
   },
   "outputs": [],
   "source": [
    "K.clear_session()"
   ]
  },
  {
   "cell_type": "code",
   "execution_count": 13,
   "metadata": {
    "ExecuteTime": {
     "end_time": "2021-02-23T16:46:41.168825Z",
     "start_time": "2021-02-23T16:46:41.162609Z"
    }
   },
   "outputs": [],
   "source": [
    "embedding_size = 100"
   ]
  },
  {
   "cell_type": "code",
   "execution_count": 14,
   "metadata": {
    "ExecuteTime": {
     "end_time": "2021-02-23T16:46:41.630876Z",
     "start_time": "2021-02-23T16:46:41.169634Z"
    }
   },
   "outputs": [
    {
     "name": "stdout",
     "output_type": "stream",
     "text": [
      "Model: \"sequential\"\n",
      "_________________________________________________________________\n",
      "Layer (type)                 Output Shape              Param #   \n",
      "=================================================================\n",
      "embedding (Embedding)        (None, 100, 100)          2000000   \n",
      "_________________________________________________________________\n",
      "gru (GRU)                    (None, 32)                12864     \n",
      "_________________________________________________________________\n",
      "dense (Dense)                (None, 1)                 33        \n",
      "=================================================================\n",
      "Total params: 2,012,897\n",
      "Trainable params: 2,012,897\n",
      "Non-trainable params: 0\n",
      "_________________________________________________________________\n"
     ]
    }
   ],
   "source": [
    "rnn = Sequential([\n",
    "    Embedding(input_dim=vocab_size, \n",
    "              output_dim= embedding_size, \n",
    "              input_length=maxlen),\n",
    "    GRU(units=32,  \n",
    "        dropout=0.2, # comment out to use optimized GPU implementation\n",
    "        recurrent_dropout=0.2),\n",
    "    Dense(1, activation='sigmoid')\n",
    "])\n",
    "rnn.summary()"
   ]
  },
  {
   "cell_type": "code",
   "execution_count": 15,
   "metadata": {
    "ExecuteTime": {
     "end_time": "2021-02-23T16:46:41.650602Z",
     "start_time": "2021-02-23T16:46:41.632196Z"
    }
   },
   "outputs": [],
   "source": [
    "rnn.compile(loss='binary_crossentropy', \n",
    "            optimizer='RMSProp', \n",
    "            metrics=['accuracy', \n",
    "                     tf.keras.metrics.AUC(name='AUC')])"
   ]
  },
  {
   "cell_type": "code",
   "execution_count": 16,
   "metadata": {
    "ExecuteTime": {
     "end_time": "2021-02-23T16:46:41.654062Z",
     "start_time": "2021-02-23T16:46:41.651830Z"
    }
   },
   "outputs": [],
   "source": [
    "rnn_path = (results_path / 'lstm.h5').as_posix()\n",
    "\n",
    "checkpointer = ModelCheckpoint(filepath=rnn_path,\n",
    "                               verbose=1,\n",
    "                               monitor='val_AUC',\n",
    "                               mode='max',\n",
    "                               save_best_only=True)"
   ]
  },
  {
   "cell_type": "code",
   "execution_count": 17,
   "metadata": {
    "ExecuteTime": {
     "end_time": "2021-02-23T16:46:41.662536Z",
     "start_time": "2021-02-23T16:46:41.656135Z"
    }
   },
   "outputs": [],
   "source": [
    "early_stopping = EarlyStopping(monitor='val_AUC', \n",
    "                               mode='max',\n",
    "                              patience=5,\n",
    "                              restore_best_weights=True)"
   ]
  },
  {
   "cell_type": "code",
   "execution_count": 18,
   "metadata": {
    "ExecuteTime": {
     "end_time": "2021-02-23T17:06:11.002545Z",
     "start_time": "2021-02-23T16:46:41.663341Z"
    }
   },
   "outputs": [
    {
     "name": "stdout",
     "output_type": "stream",
     "text": [
      "Epoch 1/100\n",
      "782/782 [==============================] - 51s 61ms/step - loss: 0.5319 - accuracy: 0.7052 - AUC: 0.7810 - val_loss: 0.3403 - val_accuracy: 0.8508 - val_AUC: 0.9302\n",
      "\n",
      "Epoch 00001: val_AUC improved from -inf to 0.93020, saving model to results/sentiment_imdb\\lstm.h5\n",
      "Epoch 2/100\n",
      "782/782 [==============================] - 54s 69ms/step - loss: 0.2878 - accuracy: 0.8833 - AUC: 0.9491 - val_loss: 0.4505 - val_accuracy: 0.8199 - val_AUC: 0.9344\n",
      "\n",
      "Epoch 00002: val_AUC improved from 0.93020 to 0.93443, saving model to results/sentiment_imdb\\lstm.h5\n",
      "Epoch 3/100\n",
      "782/782 [==============================] - 52s 66ms/step - loss: 0.2343 - accuracy: 0.9066 - AUC: 0.9665 - val_loss: 0.3147 - val_accuracy: 0.8648 - val_AUC: 0.9407\n",
      "\n",
      "Epoch 00003: val_AUC improved from 0.93443 to 0.94066, saving model to results/sentiment_imdb\\lstm.h5\n",
      "Epoch 4/100\n",
      "782/782 [==============================] - 61s 78ms/step - loss: 0.1907 - accuracy: 0.9288 - AUC: 0.9768 - val_loss: 0.3497 - val_accuracy: 0.8606 - val_AUC: 0.9390\n",
      "\n",
      "Epoch 00004: val_AUC did not improve from 0.94066\n",
      "Epoch 5/100\n",
      "782/782 [==============================] - 54s 70ms/step - loss: 0.1738 - accuracy: 0.9358 - AUC: 0.9805 - val_loss: 0.3383 - val_accuracy: 0.8605 - val_AUC: 0.9386\n",
      "\n",
      "Epoch 00005: val_AUC did not improve from 0.94066\n",
      "Epoch 6/100\n",
      "782/782 [==============================] - 64s 82ms/step - loss: 0.1577 - accuracy: 0.9406 - AUC: 0.9842 - val_loss: 0.3472 - val_accuracy: 0.8617 - val_AUC: 0.9382\n",
      "\n",
      "Epoch 00006: val_AUC did not improve from 0.94066\n",
      "Epoch 7/100\n",
      "782/782 [==============================] - 59s 76ms/step - loss: 0.1401 - accuracy: 0.9492 - AUC: 0.9869 - val_loss: 0.4124 - val_accuracy: 0.8460 - val_AUC: 0.9311\n",
      "\n",
      "Epoch 00007: val_AUC did not improve from 0.94066\n",
      "Epoch 8/100\n",
      "782/782 [==============================] - 68s 87ms/step - loss: 0.1189 - accuracy: 0.9546 - AUC: 0.9905 - val_loss: 0.3743 - val_accuracy: 0.8527 - val_AUC: 0.9326\n",
      "\n",
      "Epoch 00008: val_AUC did not improve from 0.94066\n"
     ]
    }
   ],
   "source": [
    "training = rnn.fit(X_train_padded,\n",
    "                   y_train,\n",
    "                   batch_size=32,\n",
    "                   epochs=100,\n",
    "                   validation_data=(X_test_padded, y_test),\n",
    "                   callbacks=[early_stopping, checkpointer],\n",
    "                   verbose=1)"
   ]
  },
  {
   "cell_type": "markdown",
   "metadata": {},
   "source": [
    "## Evaluate Results"
   ]
  },
  {
   "cell_type": "code",
   "execution_count": 19,
   "metadata": {
    "ExecuteTime": {
     "end_time": "2021-02-23T17:06:11.006806Z",
     "start_time": "2021-02-23T17:06:11.003730Z"
    }
   },
   "outputs": [],
   "source": [
    "history = pd.DataFrame(training.history)\n",
    "history.index += 1"
   ]
  },
  {
   "cell_type": "code",
   "execution_count": 20,
   "metadata": {
    "ExecuteTime": {
     "end_time": "2021-02-23T17:07:49.772399Z",
     "start_time": "2021-02-23T17:07:49.119899Z"
    }
   },
   "outputs": [
    {
     "data": {
      "image/png": "[encoded data removed]",
      "text/plain": [
       "<Figure size 1008x288 with 2 Axes>"
      ]
     },
     "metadata": {},
     "output_type": "display_data"
    }
   ],
   "source": [
    "fig, axes = plt.subplots(ncols=2, figsize=(14, 4))\n",
    "df1 = (history[['accuracy', 'val_accuracy']]\n",
    "       .rename(columns={'accuracy': 'Training',\n",
    "                        'val_accuracy': 'Validation'}))\n",
    "df1.plot(ax=axes[0], title='Accuracy', xlim=(1, len(history)))\n",
    "\n",
    "axes[0].axvline(df1.Validation.idxmax(), ls='--', lw=1, c='k')\n",
    "\n",
    "df2 = (history[['AUC', 'val_AUC']]\n",
    "       .rename(columns={'AUC': 'Training',\n",
    "                        'val_AUC': 'Validation'}))\n",
    "df2.plot(ax=axes[1], title='Area under the ROC Curve', xlim=(1, len(history)))\n",
    "\n",
    "axes[1].axvline(df2.Validation.idxmax(), ls='--', lw=1, c='k')\n",
    "\n",
    "for i in [0, 1]:\n",
    "    axes[i].set_xlabel('Epoch')\n",
    "\n",
    "sns.despine()\n",
    "fig.tight_layout()\n",
    "fig.savefig(results_path / 'rnn_imdb_cv', dpi=300)"
   ]
  },
  {
   "cell_type": "code",
   "execution_count": 21,
   "metadata": {
    "ExecuteTime": {
     "end_time": "2021-02-23T17:08:02.501972Z",
     "start_time": "2021-02-23T17:07:52.180763Z"
    }
   },
   "outputs": [
    {
     "data": {
      "text/plain": [
       "(25000, 1)"
      ]
     },
     "execution_count": 21,
     "metadata": {},
     "output_type": "execute_result"
    }
   ],
   "source": [
    "y_score = rnn.predict(X_test_padded)\n",
    "y_score.shape"
   ]
  },
  {
   "cell_type": "code",
   "execution_count": 22,
   "metadata": {
    "ExecuteTime": {
     "end_time": "2021-02-23T17:08:02.513650Z",
     "start_time": "2021-02-23T17:08:02.503355Z"
    }
   },
   "outputs": [
    {
     "data": {
      "text/plain": [
       "0.9406869056"
      ]
     },
     "execution_count": 22,
     "metadata": {},
     "output_type": "execute_result"
    }
   ],
   "source": [
    "roc_auc_score(y_score=y_score.squeeze(), y_true=y_test)"
   ]
  },
  {
   "cell_type": "code",
   "execution_count": null,
   "metadata": {},
   "outputs": [],
   "source": []
  }
 ],
 "metadata": {
  "kernelspec": {
   "display_name": "Python 3",
   "language": "python",
   "name": "python3"
  },
  "language_info": {
   "codemirror_mode": {
    "name": "ipython",
    "version": 3
   },
   "file_extension": ".py",
   "mimetype": "text/x-python",
   "name": "python",
   "nbconvert_exporter": "python",
   "pygments_lexer": "ipython3",
   "version": "3.8.5"
  },
  "toc": {
   "base_numbering": 1,
   "nav_menu": {},
   "number_sections": true,
   "sideBar": true,
   "skip_h1_title": true,
   "title_cell": "Table of Contents",
   "title_sidebar": "Contents",
   "toc_cell": false,
   "toc_position": {},
   "toc_section_display": true,
   "toc_window_display": true
  }
 },
 "nbformat": 4,
 "nbformat_minor": 4
}
